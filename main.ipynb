{
 "cells": [
  {
   "cell_type": "code",
   "execution_count": 1,
   "metadata": {},
   "outputs": [
    {
     "name": "stdout",
     "output_type": "stream",
     "text": [
      "Hiii\n"
     ]
    }
   ],
   "source": [
    "print('Hiii')"
   ]
  },
  {
   "cell_type": "code",
   "execution_count": 2,
   "metadata": {},
   "outputs": [
    {
     "name": "stdout",
     "output_type": "stream",
     "text": [
      "3.10.16 | packaged by conda-forge | (main, Dec  5 2024, 14:07:43) [MSC v.1942 64 bit (AMD64)]\n"
     ]
    }
   ],
   "source": [
    "# ! pip install OCC-core\n",
    "import sys\n",
    "print(sys.version)"
   ]
  },
  {
   "cell_type": "code",
   "execution_count": null,
   "metadata": {},
   "outputs": [],
   "source": [
    "# first create an environment \n",
    "# conda create --name=pyoccenv python=3.10\n",
    "# source activate pyoccenv\n",
    "# conda install -c conda-forge pythonocc-core=7.8.1.1"
   ]
  },
  {
   "cell_type": "code",
   "execution_count": 1,
   "metadata": {},
   "outputs": [
    {
     "ename": "",
     "evalue": "",
     "output_type": "error",
     "traceback": [
      "\u001b[1;31mThe Kernel crashed while executing code in the current cell or a previous cell. \n",
      "\u001b[1;31mPlease review the code in the cell(s) to identify a possible cause of the failure. \n",
      "\u001b[1;31mClick <a href='https://aka.ms/vscodeJupyterKernelCrash'>here</a> for more info. \n",
      "\u001b[1;31mView Jupyter <a href='command:jupyter.viewOutput'>log</a> for further details."
     ]
    }
   ],
   "source": [
    "from OCC.Core.STEPControl import STEPControl_Reader\n",
    "from OCC.Core.IFSelect import IFSelect_RetDone\n",
    "from OCC.Core.TopExp import TopExp_Explorer\n",
    "from OCC.Core.TopAbs import TopAbs_EDGE, TopAbs_FACE, TopAbs_SOLID, TopAbs_VERTEX\n",
    "from OCC.Core.TopoDS import TopoDS_Edge, TopoDS_Face, TopoDS_Solid, TopoDS_Vertex\n",
    "from OCC.Core.BRep import BRep_Tool\n",
    "from OCC.Core.Quantity import Quantity_ColorRGBA\n",
    "from OCC.Core.XCAFDoc import XCAFDoc_ColorType\n",
    "from OCC.Core.TDF import TDF_LabelSequence\n",
    "from OCC.Core.TDocStd import TDocStd_Document\n",
    "from OCC.Core.XCAFApp import XCAFApp_Application\n",
    "from OCC.Core.BRepGProp import BRepGProp\n",
    "from OCC.Core.GProp import GProp_GProps\n",
    "from OCC.Core.BRepTools import BRepTools\n",
    "import os\n",
    "\n",
    "# Function to extract all data from STEP file\n",
    "def extract_all_data(step_file, output_txt):\n",
    "    # Load the STEP file\n",
    "    doc = TDocStd_Document(\"\")\n",
    "    app = XCAFApp_Application.GetApplication()\n",
    "    app.NewDocument(\"\", doc)\n",
    "    reader = STEPControl_Reader()\n",
    "    status = reader.ReadFile(step_file)\n",
    "\n",
    "    if status != IFSelect_RetDone:\n",
    "        print(\"Error: Cannot read STEP file.\")\n",
    "        return\n",
    "\n",
    "    reader.Transfer(doc.Main())\n",
    "\n",
    "    # Get shape\n",
    "    shape = reader.OneShape()\n",
    "\n",
    "    # Open a text file to store data\n",
    "    with open(output_txt, \"w\") as file:\n",
    "        file.write(f\"STEP File: {os.path.basename(step_file)}\\n\\n\")\n",
    "\n",
    "        # Define shape types to explore\n",
    "        shape_types = {\n",
    "            \"Edges\": (TopAbs_EDGE, \"Edge\"),\n",
    "            \"Faces\": (TopAbs_FACE, \"Face\"),\n",
    "            \"Solids\": (TopAbs_SOLID, \"Solid\"),\n",
    "            \"Vertices\": (TopAbs_VERTEX, \"Vertex\"),\n",
    "        }\n",
    "\n",
    "        for shape_name, (shape_type, label) in shape_types.items():\n",
    "            file.write(f\"--- {shape_name} ---\\n\")\n",
    "\n",
    "            explorer = TopExp_Explorer(shape, shape_type)\n",
    "            count = 0\n",
    "            while explorer.More():\n",
    "                item = explorer.Current()\n",
    "\n",
    "                # Get geometry details\n",
    "                gprops = GProp_GProps()\n",
    "                BRepGProp.LinearProperties(item, gprops)\n",
    "                center = gprops.CentreOfMass()\n",
    "\n",
    "                # Save shape details\n",
    "                file.write(f\"{label} {count}: Center (X={center.X()}, Y={center.Y()}, Z={center.Z()})\\n\")\n",
    "\n",
    "                # Get color (if available)\n",
    "                color_tool = doc.Main().GetObject().ColorTool()\n",
    "                color_label_seq = TDF_LabelSequence()\n",
    "                color_tool.GetColors(XCAFDoc_ColorType.XCAFDoc_ColorGen, color_label_seq)\n",
    "\n",
    "                color_found = False\n",
    "                for i in range(color_label_seq.Length()):\n",
    "                    label = color_label_seq.Value(i + 1)\n",
    "                    if color_tool.IsSet(label, XCAFDoc_ColorType.XCAFDoc_ColorGen):\n",
    "                        color = Quantity_ColorRGBA()\n",
    "                        color_tool.GetColor(label, XCAFDoc_ColorType.XCAFDoc_ColorGen, color)\n",
    "                        file.write(f\"  - Color: (R={color.Red()}, G={color.Green()}, B={color.Blue()})\\n\")\n",
    "                        color_found = True\n",
    "                \n",
    "                if not color_found:\n",
    "                    file.write(\"  - Color: Not Found\\n\")\n",
    "\n",
    "                count += 1\n",
    "                explorer.Next()\n",
    "\n",
    "            file.write(f\"Total {shape_name}: {count}\\n\\n\")\n",
    "\n",
    "    print(f\"All STEP data saved to {output_txt}\")\n",
    "\n",
    "# Run the function with a sample STEP file\n",
    "step_file_path = \"17813_CSI-2_FPC-Cable_120-TF3xFH55_Curved.step\"  # Replace with your actual file\n",
    "output_txt_path = \"step_data.txt\"\n",
    "\n",
    "extract_all_data(step_file_path, output_txt_path)"
   ]
  },
  {
   "cell_type": "code",
   "execution_count": null,
   "metadata": {},
   "outputs": [],
   "source": []
  },
  {
   "cell_type": "code",
   "execution_count": null,
   "metadata": {},
   "outputs": [],
   "source": []
  }
 ],
 "metadata": {
  "kernelspec": {
   "display_name": "PYOCCENV",
   "language": "python",
   "name": "python3"
  },
  "language_info": {
   "codemirror_mode": {
    "name": "ipython",
    "version": 3
   },
   "file_extension": ".py",
   "mimetype": "text/x-python",
   "name": "python",
   "nbconvert_exporter": "python",
   "pygments_lexer": "ipython3",
   "version": "3.10.16"
  }
 },
 "nbformat": 4,
 "nbformat_minor": 2
}
